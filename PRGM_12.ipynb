{
  "nbformat": 4,
  "nbformat_minor": 0,
  "metadata": {
    "colab": {
      "name": "PRGM 12.ipynb",
      "provenance": []
    },
    "kernelspec": {
      "name": "python3",
      "display_name": "Python 3"
    },
    "language_info": {
      "name": "python"
    }
  },
  "cells": [
    {
      "cell_type": "code",
      "execution_count": 1,
      "metadata": {
        "colab": {
          "base_uri": "https://localhost:8080/"
        },
        "id": "Hnjj2lX1FTDp",
        "outputId": "9cc88eb5-cc16-438c-94aa-2fbd8c296635"
      },
      "outputs": [
        {
          "output_type": "stream",
          "name": "stdout",
          "text": [
            "Collecting git+https://github.com/alirezamika/autoscraper.git\n",
            "  Cloning https://github.com/alirezamika/autoscraper.git to /tmp/pip-req-build-57677d76\n",
            "  Running command git clone -q https://github.com/alirezamika/autoscraper.git /tmp/pip-req-build-57677d76\n",
            "Requirement already satisfied: requests in /usr/local/lib/python3.7/dist-packages (from autoscraper==1.1.12) (2.23.0)\n",
            "Requirement already satisfied: bs4 in /usr/local/lib/python3.7/dist-packages (from autoscraper==1.1.12) (0.0.1)\n",
            "Requirement already satisfied: lxml in /usr/local/lib/python3.7/dist-packages (from autoscraper==1.1.12) (4.2.6)\n",
            "Requirement already satisfied: beautifulsoup4 in /usr/local/lib/python3.7/dist-packages (from bs4->autoscraper==1.1.12) (4.6.3)\n",
            "Requirement already satisfied: chardet<4,>=3.0.2 in /usr/local/lib/python3.7/dist-packages (from requests->autoscraper==1.1.12) (3.0.4)\n",
            "Requirement already satisfied: urllib3!=1.25.0,!=1.25.1,<1.26,>=1.21.1 in /usr/local/lib/python3.7/dist-packages (from requests->autoscraper==1.1.12) (1.24.3)\n",
            "Requirement already satisfied: idna<3,>=2.5 in /usr/local/lib/python3.7/dist-packages (from requests->autoscraper==1.1.12) (2.10)\n",
            "Requirement already satisfied: certifi>=2017.4.17 in /usr/local/lib/python3.7/dist-packages (from requests->autoscraper==1.1.12) (2021.10.8)\n",
            "Building wheels for collected packages: autoscraper\n",
            "  Building wheel for autoscraper (setup.py) ... \u001b[?25l\u001b[?25hdone\n",
            "  Created wheel for autoscraper: filename=autoscraper-1.1.12-py3-none-any.whl size=10048 sha256=635b3ee4c113a90bb3e0df3ebe27859dea8a690db734178697bc040b17f32ab0\n",
            "  Stored in directory: /tmp/pip-ephem-wheel-cache-ej97m6zd/wheels/31/9d/56/6263a49f4fc2b82138579d99b7303489c482c89acbaef59326\n",
            "Successfully built autoscraper\n",
            "Installing collected packages: autoscraper\n",
            "Successfully installed autoscraper-1.1.12\n"
          ]
        }
      ],
      "source": [
        "pip install git+https://github.com/alirezamika/autoscraper.git"
      ]
    },
    {
      "cell_type": "code",
      "source": [
        "from autoscraper import AutoScraper\n",
        "\n",
        "url = 'https://www.amazon.in/'\n",
        "\n",
        "# We can add one or multiple candidates here.\n",
        "# You can also put urls here to retrieve urls.\n",
        "wanted_list = [\"Sign in for your best experience\"]\n",
        "\n",
        "scraper = AutoScraper()\n",
        "result = scraper.build(url, wanted_list)\n",
        "print(result)"
      ],
      "metadata": {
        "colab": {
          "base_uri": "https://localhost:8080/"
        },
        "id": "DLeK4XbdF3vQ",
        "outputId": "8d82e27a-d92a-406e-b821-5fb57f43ed12"
      },
      "execution_count": 11,
      "outputs": [
        {
          "output_type": "stream",
          "name": "stdout",
          "text": [
            "['Sign in for your best experience', 'Start a hobby in photography', 'Food, fitness and WFH essentials | Amazon Launchpad', 'Up to 45% off | Shop by Pet', 'For your little one | Amazon Brands & more', '4 star+ rated kitchen products | Amazon Brands & more', 'Family essentials | Amazon Brands & more', 'Pocket Friendly |  Up to 80% off', 'Best Sellers in Computers & Accessories', 'Best Sellers in Toys & Games', 'Electronics devices for home office', 'Fire TV streaming trends 2021', 'Immunity boosters & everyday essentials | Amazon Launchpad']\n"
          ]
        }
      ]
    }
  ]
}